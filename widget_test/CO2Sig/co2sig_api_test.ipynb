{
 "cells": [
  {
   "cell_type": "code",
   "execution_count": 2,
   "metadata": {},
   "outputs": [],
   "source": [
    "# Establish dependencies\n",
    "\n",
    "import requests as req"
   ]
  },
  {
   "cell_type": "code",
   "execution_count": 22,
   "metadata": {},
   "outputs": [
    {
     "name": "stdout",
     "output_type": "stream",
     "text": [
      "https://api.co2signal.com/v1/latest?lon=-75.508299&lat=38.033215\n",
      "{'auth-token': '1a8ea1713e7415b9'}\n"
     ]
    }
   ],
   "source": [
    "# Build url as specified at https://docs.co2signal.com/#routes\n",
    "\n",
    "# Sample build from documentation\n",
    "# curl 'https://api.co2signal.com/v1/latest?lon=6.8770394&lat=45.9162776'\n",
    "# -H 'auth-token: myapitoken'\n",
    "\n",
    "# Per documentation at http://api.electricitymap.org/v3/zones, the applicable zone name is below. \n",
    "# \"US-MIDA-PJM\":{\"countryName\":\"United States of America\",\"zoneName\":\"PJM Interconnection, Llc\"}\n",
    "\n",
    "# This is for the latest data by geographic coordinate\n",
    "base_url = 'https://api.co2signal.com/v1/latest?'\n",
    "api_key = '1a8ea1713e7415b9'\n",
    "headers = {'auth-token':api_key}\n",
    "# Build coordinate input for the call\n",
    "lon = '-75.508299'\n",
    "lat = '38.033215'\n",
    "lon_lat = 'lon=' + lon + '&' + 'lat=' + lat\n",
    "# Build final url\n",
    "target_url = base_url + lon_lat\n",
    "\n",
    "print(target_url)\n",
    "print(headers)"
   ]
  },
  {
   "cell_type": "code",
   "execution_count": 23,
   "metadata": {},
   "outputs": [],
   "source": [
    "# Complete the request\n",
    "response = req.get(target_url, headers=headers).json()\n"
   ]
  },
  {
   "cell_type": "code",
   "execution_count": 24,
   "metadata": {},
   "outputs": [
    {
     "name": "stdout",
     "output_type": "stream",
     "text": [
      "{'message': 'No API key found in headers or querystring'}\n"
     ]
    }
   ],
   "source": [
    "print(output)"
   ]
  },
  {
   "cell_type": "code",
   "execution_count": null,
   "metadata": {},
   "outputs": [],
   "source": []
  }
 ],
 "metadata": {
  "kernelspec": {
   "display_name": "Python 3 (Spyder)",
   "language": "python3",
   "name": "python3"
  },
  "language_info": {
   "codemirror_mode": {
    "name": "ipython",
    "version": 3
   },
   "file_extension": ".py",
   "mimetype": "text/x-python",
   "name": "python",
   "nbconvert_exporter": "python",
   "pygments_lexer": "ipython3",
   "version": "3.8.3"
  }
 },
 "nbformat": 4,
 "nbformat_minor": 4
}
